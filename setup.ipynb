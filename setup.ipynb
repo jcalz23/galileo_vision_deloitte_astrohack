{
 "cells": [
  {
   "cell_type": "code",
   "execution_count": 1,
   "metadata": {},
   "outputs": [],
   "source": [
    "import os\n",
    "import pandas as pd\n",
    "from zipfile import ZipFile\n",
    "\n",
    "# import fastbook\n",
    "# from fastbook import *\n",
    "# from fastai.vision.all import *\n",
    "# from fastai.vision.widgets import *\n",
    "# from fastai.metrics import *\n",
    "# import PIL"
   ]
  },
  {
   "cell_type": "code",
   "execution_count": 2,
   "metadata": {},
   "outputs": [],
   "source": [
    "data_dir = os.getcwd() + '/data/'\n",
    "image_dir = os.getcwd() + \"/train_images_128pix/\""
   ]
  },
  {
   "cell_type": "markdown",
   "metadata": {},
   "source": [
    "### Unzip images"
   ]
  },
  {
   "cell_type": "code",
   "execution_count": null,
   "metadata": {},
   "outputs": [],
   "source": [
    "# # Unzip image files to working dir\n",
    "# fname = 'train_images_128pix.zip'\n",
    "\n",
    "# with ZipFile(data_dir + fname, 'r') as zip:\n",
    "#     zip.printdir()\n",
    "#     zip.extractall()"
   ]
  },
  {
   "cell_type": "markdown",
   "metadata": {},
   "source": [
    "### Create 'size' field: Train"
   ]
  },
  {
   "cell_type": "code",
   "execution_count": 3,
   "metadata": {},
   "outputs": [
    {
     "data": {
      "text/html": [
       "<div>\n",
       "<style scoped>\n",
       "    .dataframe tbody tr th:only-of-type {\n",
       "        vertical-align: middle;\n",
       "    }\n",
       "\n",
       "    .dataframe tbody tr th {\n",
       "        vertical-align: top;\n",
       "    }\n",
       "\n",
       "    .dataframe thead th {\n",
       "        text-align: right;\n",
       "    }\n",
       "</style>\n",
       "<table border=\"1\" class=\"dataframe\">\n",
       "  <thead>\n",
       "    <tr style=\"text-align: right;\">\n",
       "      <th></th>\n",
       "      <th>SDSS_ID</th>\n",
       "      <th>M/L</th>\n",
       "      <th>L_g</th>\n",
       "      <th>distance_Mpc</th>\n",
       "      <th>galsize_kpc</th>\n",
       "      <th>image_name</th>\n",
       "      <th>size_128</th>\n",
       "      <th>size_69</th>\n",
       "      <th>size</th>\n",
       "    </tr>\n",
       "  </thead>\n",
       "  <tbody>\n",
       "    <tr>\n",
       "      <th>0</th>\n",
       "      <td>1237668271371976941</td>\n",
       "      <td>3.022229</td>\n",
       "      <td>1.205884e+10</td>\n",
       "      <td>189.000006</td>\n",
       "      <td>28.852800</td>\n",
       "      <td>1237668271371976941.png</td>\n",
       "      <td>11357</td>\n",
       "      <td>3724</td>\n",
       "      <td>11357</td>\n",
       "    </tr>\n",
       "    <tr>\n",
       "      <th>1</th>\n",
       "      <td>1237661873478828168</td>\n",
       "      <td>2.057684</td>\n",
       "      <td>2.953450e+10</td>\n",
       "      <td>201.000002</td>\n",
       "      <td>36.891150</td>\n",
       "      <td>1237661873478828168.png</td>\n",
       "      <td>11705</td>\n",
       "      <td>3748</td>\n",
       "      <td>11705</td>\n",
       "    </tr>\n",
       "    <tr>\n",
       "      <th>2</th>\n",
       "      <td>1237651495756234805</td>\n",
       "      <td>5.380972</td>\n",
       "      <td>1.078647e+10</td>\n",
       "      <td>180.428576</td>\n",
       "      <td>33.115510</td>\n",
       "      <td>1237651495756234805.png</td>\n",
       "      <td>11861</td>\n",
       "      <td>3803</td>\n",
       "      <td>11861</td>\n",
       "    </tr>\n",
       "    <tr>\n",
       "      <th>3</th>\n",
       "      <td>1237661813339848849</td>\n",
       "      <td>1.525518</td>\n",
       "      <td>1.144418e+10</td>\n",
       "      <td>204.000005</td>\n",
       "      <td>27.124161</td>\n",
       "      <td>1237661813339848849.png</td>\n",
       "      <td>11292</td>\n",
       "      <td>3778</td>\n",
       "      <td>11292</td>\n",
       "    </tr>\n",
       "    <tr>\n",
       "      <th>4</th>\n",
       "      <td>1237665532260450879</td>\n",
       "      <td>0.663993</td>\n",
       "      <td>5.546587e+09</td>\n",
       "      <td>208.285712</td>\n",
       "      <td>24.682299</td>\n",
       "      <td>1237665532260450879.png</td>\n",
       "      <td>10870</td>\n",
       "      <td>3733</td>\n",
       "      <td>10870</td>\n",
       "    </tr>\n",
       "  </tbody>\n",
       "</table>\n",
       "</div>"
      ],
      "text/plain": [
       "               SDSS_ID       M/L           L_g  distance_Mpc  galsize_kpc  \\\n",
       "0  1237668271371976941  3.022229  1.205884e+10    189.000006    28.852800   \n",
       "1  1237661873478828168  2.057684  2.953450e+10    201.000002    36.891150   \n",
       "2  1237651495756234805  5.380972  1.078647e+10    180.428576    33.115510   \n",
       "3  1237661813339848849  1.525518  1.144418e+10    204.000005    27.124161   \n",
       "4  1237665532260450879  0.663993  5.546587e+09    208.285712    24.682299   \n",
       "\n",
       "                image_name  size_128  size_69   size  \n",
       "0  1237668271371976941.png     11357     3724  11357  \n",
       "1  1237661873478828168.png     11705     3748  11705  \n",
       "2  1237651495756234805.png     11861     3803  11861  \n",
       "3  1237661813339848849.png     11292     3778  11292  \n",
       "4  1237665532260450879.png     10870     3733  10870  "
      ]
     },
     "execution_count": 3,
     "metadata": {},
     "output_type": "execute_result"
    }
   ],
   "source": [
    "meta = pd.read_csv(data_dir + \"train_metadata.tsv\", sep = \"\\t\")\n",
    "\n",
    "images_128 = meta['image_name']\n",
    "\n",
    "sizes = []\n",
    "for image in images_128:\n",
    "    size = os.stat(image_dir + image).st_size\n",
    "    sizes.append(size)\n",
    "    \n",
    "meta['size'] = sizes\n",
    "meta.head()"
   ]
  },
  {
   "cell_type": "code",
   "execution_count": 4,
   "metadata": {},
   "outputs": [
    {
     "data": {
      "text/plain": [
       "Index(['SDSS_ID', 'M/L', 'L_g', 'distance_Mpc', 'galsize_kpc', 'image_name',\n",
       "       'size_128', 'size_69', 'size'],\n",
       "      dtype='object')"
      ]
     },
     "execution_count": 4,
     "metadata": {},
     "output_type": "execute_result"
    }
   ],
   "source": [
    "meta.columns"
   ]
  },
  {
   "cell_type": "code",
   "execution_count": 4,
   "metadata": {},
   "outputs": [],
   "source": [
    "meta.to_csv(data_dir + \"train_metadata.tsv\", sep = \"\\t\", index = False)"
   ]
  },
  {
   "cell_type": "markdown",
   "metadata": {},
   "source": [
    "### Create 'size' field: Test"
   ]
  },
  {
   "cell_type": "code",
   "execution_count": 5,
   "metadata": {},
   "outputs": [
    {
     "data": {
      "text/html": [
       "<div>\n",
       "<style scoped>\n",
       "    .dataframe tbody tr th:only-of-type {\n",
       "        vertical-align: middle;\n",
       "    }\n",
       "\n",
       "    .dataframe tbody tr th {\n",
       "        vertical-align: top;\n",
       "    }\n",
       "\n",
       "    .dataframe thead th {\n",
       "        text-align: right;\n",
       "    }\n",
       "</style>\n",
       "<table border=\"1\" class=\"dataframe\">\n",
       "  <thead>\n",
       "    <tr style=\"text-align: right;\">\n",
       "      <th></th>\n",
       "      <th>SDSS_ID</th>\n",
       "      <th>L_g</th>\n",
       "      <th>distance_Mpc</th>\n",
       "      <th>galsize_kpc</th>\n",
       "      <th>image_name</th>\n",
       "      <th>size</th>\n",
       "    </tr>\n",
       "  </thead>\n",
       "  <tbody>\n",
       "    <tr>\n",
       "      <th>0</th>\n",
       "      <td>1237657873256349729</td>\n",
       "      <td>2.592800e+10</td>\n",
       "      <td>174.000008</td>\n",
       "      <td>37.521085</td>\n",
       "      <td>1237657873256349729.png</td>\n",
       "      <td>3720</td>\n",
       "    </tr>\n",
       "    <tr>\n",
       "      <th>1</th>\n",
       "      <td>1237671260128411724</td>\n",
       "      <td>3.299057e+10</td>\n",
       "      <td>231.857140</td>\n",
       "      <td>33.032891</td>\n",
       "      <td>1237671260128411724.png</td>\n",
       "      <td>3727</td>\n",
       "    </tr>\n",
       "    <tr>\n",
       "      <th>2</th>\n",
       "      <td>1237658205036740751</td>\n",
       "      <td>4.094620e+10</td>\n",
       "      <td>310.285730</td>\n",
       "      <td>41.256079</td>\n",
       "      <td>1237658205036740751.png</td>\n",
       "      <td>3773</td>\n",
       "    </tr>\n",
       "    <tr>\n",
       "      <th>3</th>\n",
       "      <td>1237663786884006118</td>\n",
       "      <td>8.133352e+09</td>\n",
       "      <td>177.428573</td>\n",
       "      <td>39.151614</td>\n",
       "      <td>1237663786884006118.png</td>\n",
       "      <td>3742</td>\n",
       "    </tr>\n",
       "    <tr>\n",
       "      <th>4</th>\n",
       "      <td>1237657594612875451</td>\n",
       "      <td>6.650563e+08</td>\n",
       "      <td>55.714287</td>\n",
       "      <td>7.239235</td>\n",
       "      <td>1237657594612875451.png</td>\n",
       "      <td>3739</td>\n",
       "    </tr>\n",
       "  </tbody>\n",
       "</table>\n",
       "</div>"
      ],
      "text/plain": [
       "               SDSS_ID           L_g  distance_Mpc  galsize_kpc  \\\n",
       "0  1237657873256349729  2.592800e+10    174.000008    37.521085   \n",
       "1  1237671260128411724  3.299057e+10    231.857140    33.032891   \n",
       "2  1237658205036740751  4.094620e+10    310.285730    41.256079   \n",
       "3  1237663786884006118  8.133352e+09    177.428573    39.151614   \n",
       "4  1237657594612875451  6.650563e+08     55.714287     7.239235   \n",
       "\n",
       "                image_name  size  \n",
       "0  1237657873256349729.png  3720  \n",
       "1  1237671260128411724.png  3727  \n",
       "2  1237658205036740751.png  3773  \n",
       "3  1237663786884006118.png  3742  \n",
       "4  1237657594612875451.png  3739  "
      ]
     },
     "execution_count": 5,
     "metadata": {},
     "output_type": "execute_result"
    }
   ],
   "source": [
    "# Load in the eval_69 set\n",
    "eval_image_dir = os.getcwd() + \"/evaluation_images_128pix/\"\n",
    "\n",
    "eval_df = pd.read_csv(data_dir + \"eval_metadata.tsv\", sep = \"\\t\")\n",
    "eval_df.head()"
   ]
  },
  {
   "cell_type": "code",
   "execution_count": null,
   "metadata": {},
   "outputs": [],
   "source": [
    "eval_meta = pd.read_csv(data_dir + \"eval_metadata.tsv\", sep = \"\\t\")\n",
    "\n",
    "eval_images_128 = eval_df['image_name']\n",
    "\n",
    "eval_sizes = []\n",
    "for image in eval_images_128:\n",
    "    size = os.stat(eval_image_dir + image).st_size\n",
    "    eval_sizes.append(size)\n",
    "    \n",
    "eval_meta['size'] = eval_sizes\n",
    "eval_meta.head()"
   ]
  },
  {
   "cell_type": "code",
   "execution_count": null,
   "metadata": {},
   "outputs": [],
   "source": [
    "eval_meta.to_csv(data_dir + \"eval_metadata.tsv\", sep = \"\\t\", index = False)"
   ]
  },
  {
   "cell_type": "code",
   "execution_count": null,
   "metadata": {},
   "outputs": [],
   "source": []
  },
  {
   "cell_type": "markdown",
   "metadata": {},
   "source": [
    "### Build Dataloader"
   ]
  },
  {
   "cell_type": "code",
   "execution_count": null,
   "metadata": {},
   "outputs": [],
   "source": [
    "img_files = get_image_files(image_dir)\n",
    "im = PILImage.create(img_files[0])\n",
    "print(im.shape)\n",
    "im.to_thumb(160)"
   ]
  },
  {
   "cell_type": "code",
   "execution_count": null,
   "metadata": {},
   "outputs": [],
   "source": [
    "meta['Path'] = image_dir + meta['image_name']\n",
    "meta.head()\n",
    "\n",
    "dls = DataBlock(\n",
    "    blocks=(ImageBlock, RegressionBlock),\n",
    "    get_x=ColReader('Path', pref='', suff=''), \n",
    "    get_y=ColReader('M/L'),\n",
    "    splitter=RandomSplitter(valid_pct=0.2, seed=42),\n",
    "    batch_tfms=[*aug_transforms(size=(240,240)), \n",
    "                Normalize.from_stats(*imagenet_stats)]\n",
    ").dataloaders(meta)"
   ]
  },
  {
   "cell_type": "code",
   "execution_count": null,
   "metadata": {},
   "outputs": [],
   "source": [
    "dls.show_batch(max_n=9, figsize=(8,6))"
   ]
  },
  {
   "cell_type": "code",
   "execution_count": null,
   "metadata": {},
   "outputs": [],
   "source": [
    "xb,yb = dls.one_batch()\n",
    "xb.shape,yb.shape"
   ]
  },
  {
   "cell_type": "code",
   "execution_count": null,
   "metadata": {},
   "outputs": [],
   "source": [
    "min_val = meta['M/L'].min()\n",
    "max_val = meta['M/L'].max()\n",
    "learn = cnn_learner(dls, resnet18, y_range=(min_val, max_val))"
   ]
  },
  {
   "cell_type": "code",
   "execution_count": null,
   "metadata": {},
   "outputs": [],
   "source": [
    "dls.loss_func"
   ]
  },
  {
   "cell_type": "code",
   "execution_count": null,
   "metadata": {},
   "outputs": [],
   "source": [
    "#learn.lr_find()"
   ]
  },
  {
   "cell_type": "code",
   "execution_count": null,
   "metadata": {},
   "outputs": [],
   "source": [
    "learn = cnn_learner(dls, resnet18, y_range=(min_val, max_val))\n",
    "\n",
    "lr = 0.08\n",
    "learn.fine_tune(3, lr)"
   ]
  },
  {
   "cell_type": "code",
   "execution_count": null,
   "metadata": {},
   "outputs": [],
   "source": [
    "learn = cnn_learner(dls, resnet18, y_range=(min_val, max_val))\n",
    "lr = 1e-3\n",
    "learn.fine_tune(3, lr)"
   ]
  },
  {
   "cell_type": "code",
   "execution_count": null,
   "metadata": {},
   "outputs": [],
   "source": [
    "learn = cnn_learner(dls, resnet18, y_range=(min_val, max_val))\n",
    "lr = 7e-4\n",
    "learn.fine_tune(3, lr)"
   ]
  },
  {
   "cell_type": "code",
   "execution_count": null,
   "metadata": {},
   "outputs": [],
   "source": [
    "learn = cnn_learner(dls, resnet18, y_range=(min_val, max_val))\n",
    "lr = 5e-4\n",
    "learn.fine_tune(3, lr)"
   ]
  },
  {
   "cell_type": "code",
   "execution_count": null,
   "metadata": {},
   "outputs": [],
   "source": [
    "learn = cnn_learner(dls, resnet18, y_range=(min_val, max_val))\n",
    "\n",
    "lr = 1e-4\n",
    "learn.fine_tune(3, lr)"
   ]
  },
  {
   "cell_type": "code",
   "execution_count": null,
   "metadata": {},
   "outputs": [],
   "source": [
    "learn = cnn_learner(dls, resnet18, y_range=(min_val, max_val))\n",
    "\n",
    "lr = 5e-5\n",
    "learn.fine_tune(3, lr)"
   ]
  },
  {
   "cell_type": "code",
   "execution_count": null,
   "metadata": {},
   "outputs": [],
   "source": [
    "learn = cnn_learner(dls, resnet18, y_range=(min_val, max_val))\n",
    "\n",
    "lr_steep=1e-5\n",
    "learn.fine_tune(3, lr_steep)"
   ]
  },
  {
   "cell_type": "code",
   "execution_count": null,
   "metadata": {},
   "outputs": [],
   "source": []
  },
  {
   "cell_type": "code",
   "execution_count": null,
   "metadata": {},
   "outputs": [],
   "source": []
  },
  {
   "cell_type": "code",
   "execution_count": null,
   "metadata": {},
   "outputs": [],
   "source": []
  }
 ],
 "metadata": {
  "kernelspec": {
   "display_name": "Python 3",
   "language": "python",
   "name": "python3"
  },
  "language_info": {
   "codemirror_mode": {
    "name": "ipython",
    "version": 3
   },
   "file_extension": ".py",
   "mimetype": "text/x-python",
   "name": "python",
   "nbconvert_exporter": "python",
   "pygments_lexer": "ipython3",
   "version": "3.8.6"
  }
 },
 "nbformat": 4,
 "nbformat_minor": 4
}
